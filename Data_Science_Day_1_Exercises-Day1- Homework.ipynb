{
 "cells": [
  {
   "cell_type": "markdown",
   "metadata": {},
   "source": [
    "# Exercises"
   ]
  },
  {
   "cell_type": "code",
   "execution_count": 3,
   "metadata": {},
   "outputs": [],
   "source": [
    "import numpy as np"
   ]
  },
  {
   "cell_type": "markdown",
   "metadata": {},
   "source": [
    "### #1 - Calculate the BMI (body mass index) on the two lists below using NDArrays..."
   ]
  },
  {
   "cell_type": "code",
   "execution_count": 6,
   "metadata": {},
   "outputs": [
    {
     "name": "stdout",
     "output_type": "stream",
     "text": [
      "[16.86620458 17.87755102 18.82562984 19.71450617 20.54794521 21.32943755\n",
      " 22.06222222]\n"
     ]
    }
   ],
   "source": [
    "\n",
    "# formula = weight / (height**2) * 730\n",
    "height = [69, 70, 71, 72, 73, 74, 75]\n",
    "weight = [110, 120, 130, 140, 150, 160, 170]\n",
    "\n",
    "# OUTPUT: [16.86620458 17.87755102 18.82562984 19.71450617 20.54794521 21.32943755\n",
    "# 22.06222222]\n",
    "height1 = np.array(height)\n",
    "weight1 = np.array(weight)\n",
    "result = (weight1 / (height1 ** 2)) * 730\n",
    "print(result)\n",
    "\n"
   ]
  },
  {
   "cell_type": "markdown",
   "metadata": {},
   "source": [
    "### #2 - Create a function that will take in two parameters and will create a random matrix based off of those parameters. Extra: Have additional parameters taken in that allow the user to choose the shape and data type of the matrix."
   ]
  },
  {
   "cell_type": "code",
   "execution_count": 21,
   "metadata": {},
   "outputs": [
    {
     "name": "stdout",
     "output_type": "stream",
     "text": [
      "[[ 0  1  2  3]\n",
      " [ 4  5  6  7]\n",
      " [ 8  9 10 11]\n",
      " [12 13 14 15]]\n"
     ]
    }
   ],
   "source": [
    "def new_matrix(param1, param2, shape):\n",
    "    arr_range = np.arange(param1, param2).reshape(shape)\n",
    "    return arr_range\n",
    "\n",
    "print(new_matrix(0,16, (4, 4)))\n",
    "\n",
    "# \"\"\"\n",
    "# Example Result for make_matrix(0,15,(3,3)):\n",
    "# array([[14.21633515,  7.98846653,  9.64140715],\n",
    "#        [ 6.30982234,  9.96414331,  8.43153688],\n",
    "#        [14.73102068, 11.76072894, 14.23356121]])\n",
    "# \"\"\"\n",
    "# def make_matrix(low,high,shape,data_type = float): -- Example\n",
    "#     pass"
   ]
  },
  {
   "cell_type": "markdown",
   "metadata": {},
   "source": [
    "### #3 - Open and load the data for the Chicago White Sox hitting data for this past season.Create a function that will compare the infield players output vs the outfield players output vs *hybrid. (Infield - {C, 1B, 2B, SS, 3B, MI}, Outfield - {LF, CF, RF, OF}, *Hybrid - {DH, UT}) for a specific stat. i.e. BA or HR or OPS\n",
    "\n",
    "*Hybrid is optional\n"
   ]
  },
  {
   "cell_type": "code",
   "execution_count": 34,
   "metadata": {},
   "outputs": [],
   "source": [
    "import csv\n",
    "import numpy as np\n",
    "\n",
    "#Test to make sure you have the correct data\n",
    "def open_csv(filename, d=','):\n",
    "    data = []\n",
    "    with open(filename, encoding = 'utf-8')as mData:\n",
    "        info = csv.reader(mData, delimiter = d)\n",
    "        for row in info:\n",
    "            data.append(row)\n",
    "    return data\n",
    "csv_data = open_csv('whitesox_2021_hitting.csv')\n",
    "\n",
    "\n",
    "    \n"
   ]
  },
  {
   "cell_type": "code",
   "execution_count": 41,
   "metadata": {
    "scrolled": true
   },
   "outputs": [
    {
     "name": "stdout",
     "output_type": "stream",
     "text": [
      "[b'Yasmani Grandal' b'Jos\\xc3\\xa9 Abreu' b'Cesar Hernandez'\n",
      " b'Tim Anderson' b'Yoan Moncada' b'Andrew Vaughn' b'Luis Robert'\n",
      " b'Adam Eaton' b'Yermin Mercedes' b'Leury Garcia' b'Brian Goodwin'\n",
      " b'Eloy Jimenez' b'Zack Collins' b'Nick Madrigal' b'Danny Mendick'\n",
      " b'Gavin Sheets' b'Adam Engel' b'Billy Hamilton' b'Jake Lamb'\n",
      " b'Seby Zavala' b'Jake Burger' b'Romy Gonzalez' b'Nick Williams'\n",
      " b'Luis Gonzalez']\n",
      "[b'Yasmani Grandal' b'Jos\\xc3\\xa9 Abreu' b'Cesar Hernandez'\n",
      " b'Tim Anderson' b'Yoan Moncada' b'Andrew Vaughn' b'Luis Robert'\n",
      " b'Adam Eaton' b'Yermin Mercedes' b'Leury Garcia' b'Brian Goodwin'\n",
      " b'Eloy Jimenez' b'Zack Collins' b'Nick Madrigal' b'Danny Mendick'\n",
      " b'Gavin Sheets' b'Adam Engel' b'Billy Hamilton' b'Jake Lamb'\n",
      " b'Seby Zavala' b'Jake Burger' b'Romy Gonzalez' b'Nick Williams'\n",
      " b'Luis Gonzalez']\n"
     ]
    }
   ],
   "source": [
    "#3 - Open and load the data for the Chicago White Sox\n",
    "# hitting data for this past season.Create a function\n",
    "# that will compare the infield players output vs \n",
    "# the outfield players output vs *hybrid. \n",
    "# (Infield - {C, 1B, 2B, SS, 3B, MI}, Outfield - \n",
    "# {LF, CF, RF, OF}, *Hybrid - {DH, UT}) \n",
    "# for a specific stat. i.e. BA or HR or OPS\n",
    "\n",
    "FIELDS = ['Rk', 'Pos', 'Name', 'Age', 'G', 'PA', 'AB', 'R', 'H', '2B', '3B', 'HR', 'RBI', 'SB', 'CS', \n",
    "          'BB', 'SO', 'BA', 'OBP', 'SLG', 'OPS', 'OPS+', 'TB', 'GDP', 'HBP', 'SH', 'SF', 'IBB']\n",
    "\n",
    "DATATYPES = [('rk', 'i'), ('pos', '|S25'), ('name', '|S25'), ('age', 'i'), ('g', 'i'), ('pa', 'i'), ('ab', 'i'),\n",
    "                ('r', 'i'), ('h', 'i'), ('2b', 'i'), ('3b', 'i'), ('hr', 'i'), ('rbi', 'i'), ('sb', 'i'), ('cs', 'i'),\n",
    "                ('bb', 'i'), ('so', 'i'), ('ba', 'f'), ('obp', 'f'), ('slg', 'f'), ('ops', 'f'), ('opsp', 'i'),\n",
    "                ('tb', 'i'), ('gdp', 'i'), ('hbp', 'i'), ('sh', 'i'), ('sf', 'i'), ('ibb', 'i')]\n",
    "\n",
    "#Use this function to actually open the data inside of a NDArray\n",
    "def load_data(filename, d=','):\n",
    "    data = np.genfromtxt(filename, dtype=DATATYPES, delimiter=d,\n",
    "                        filling_values='N/A', names=True, invalid_raise=False)\n",
    "    return data\n",
    "\n",
    "whitesox = load_data('whitesox_2021_hitting.csv')\n",
    "all_players = whitesox['Name']\n",
    "print(infield)\n",
    "print(all_players)\n",
    "\n",
    "# def find():\n",
    "    \n",
    "# print(find(stuff));\n",
    "\n"
   ]
  },
  {
   "cell_type": "code",
   "execution_count": null,
   "metadata": {},
   "outputs": [],
   "source": []
  }
 ],
 "metadata": {
  "kernelspec": {
   "display_name": "Python 3",
   "language": "python",
   "name": "python3"
  },
  "language_info": {
   "codemirror_mode": {
    "name": "ipython",
    "version": 3
   },
   "file_extension": ".py",
   "mimetype": "text/x-python",
   "name": "python",
   "nbconvert_exporter": "python",
   "pygments_lexer": "ipython3",
   "version": "3.8.8"
  }
 },
 "nbformat": 4,
 "nbformat_minor": 2
}
